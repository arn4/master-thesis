{
 "cells": [
  {
   "cell_type": "code",
   "execution_count": 1,
   "metadata": {},
   "outputs": [],
   "source": [
    "%load_ext autoreload\n",
    "%autoreload 2"
   ]
  },
  {
   "cell_type": "code",
   "execution_count": 2,
   "metadata": {},
   "outputs": [
    {
     "name": "stdout",
     "output_type": "stream",
     "text": [
      "Actual initial value:\t2.0\n",
      "Diverging threeshold:\t0.7239712567903925\n",
      "Attractor:\t\t0.10936207654294088\n",
      "Risk minimum q:\t\t0.8\n"
     ]
    }
   ],
   "source": [
    "from committee_learning.initial_conditions import SymmetricInitialConditions\n",
    "from committee_learning.simulation import Simulation\n",
    "from committee_learning.ode import SquaredActivationODE\n",
    "from committee_learning.result import SimulationResult, SquareODEResult\n",
    "\n",
    "import numpy as np\n",
    "\n",
    "d_list = [10000]\n",
    "p = 8\n",
    "k = 4\n",
    "gamma0 = 1.\n",
    "noise = 1e-3\n",
    "dt = 1e-3\n",
    "epsilon = 1e-2\n",
    "q0 = 2.\n",
    "\n",
    "def risk(q):\n",
    "  return 0.5 * ((1.+2/k) - 2*q + (1+2/p)*q**2)\n",
    "\n",
    "def qf():\n",
    "  discr = (p + 2*gamma0)**2 - 4*p*(p+4)/(p+2)*(1+gamma0/p*(1+2/k+noise))\n",
    "  if discr < 0.:\n",
    "    print('No fixed point for q!')\n",
    "  return (\n",
    "    (p + 2*gamma0 - np.sqrt(discr))/(2*gamma0*(p+4)),\n",
    "    (p + 2*gamma0 + np.sqrt(discr))/(2*gamma0*(p+4))\n",
    "  )\n",
    "\n",
    "qf0 = p/(p+2)\n",
    "qf1, qf2 = qf()\n",
    "R0 = risk(q0)\n",
    "R_minimum = risk(qf0)\n",
    "R_qf1 = risk(qf1)\n",
    "R_qf2 = risk(qf2)\n",
    "\n",
    "print(f'Actual initial value:\\t{q0}')\n",
    "print(f'Diverging threeshold:\\t{qf2}')\n",
    "print(f'Attractor:\\t\\t{qf1}')\n",
    "print(f'Risk minimum q:\\t\\t{qf0}')\n",
    "\n",
    "ic = SymmetricInitialConditions(p,k,epsilon,q0)"
   ]
  },
  {
   "cell_type": "markdown",
   "metadata": {},
   "source": [
    "### Simulations"
   ]
  },
  {
   "cell_type": "code",
   "execution_count": 3,
   "metadata": {},
   "outputs": [
    {
     "name": "stdout",
     "output_type": "stream",
     "text": [
      "Simulating d = 10000\n"
     ]
    }
   ],
   "source": [
    "simrs = {}\n",
    "for d, Wt, W0 in ic.simulations(d_list):\n",
    "  print(f'Simulating d = {d}')\n",
    "  sim = Simulation(d,p,k,noise,Wt,gamma0,'square',W0)\n",
    "  simr = SimulationResult(f'test_smallepsilon{epsilon}')\n",
    "  simr.from_file_or_run(sim, path='computation-database/sim/',decades=2+np.log10(d))\n",
    "  simrs[d] = simr"
   ]
  },
  {
   "cell_type": "markdown",
   "metadata": {},
   "source": [
    "### ODE"
   ]
  },
  {
   "cell_type": "code",
   "execution_count": 4,
   "metadata": {},
   "outputs": [],
   "source": [
    "ode = SquaredActivationODE(p,k,noise,gamma0,ic.P,ic.Q,ic.M,dt)\n",
    "oder = SquareODEResult('', )\n",
    "oder.from_file_or_run(ode, decades=2, path='computation-database/ode/')"
   ]
  },
  {
   "cell_type": "code",
   "execution_count": 8,
   "metadata": {},
   "outputs": [],
   "source": [
    "import matplotlib.pyplot as plt\n",
    "from committee_learning.utilities import plot_style\n",
    "\n",
    "with plot_style():\n",
    "  fig, ax = plt.subplots(figsize=(2.75,2.75))\n",
    "  ax.set_xscale('log')\n",
    "  ax.set_yscale('log')\n",
    "  ax.set_xlabel(r'$t$')\n",
    "  ax.set_ylabel(r'$\\mathcal{R}$')\n",
    "  # ax.set_xlim(min(ode.saved_times), max(ode.saved_times))\n",
    "  # Global \n",
    "  ax.set_xlim(1e-3,1e2)\n",
    "  \n",
    "\n",
    "  # Lines\n",
    "  ax.axhline(y=R0,ls='-.',lw=0.7,label=r'$\\mathcal{R}{(0)}$',color='orange')\n",
    "  ax.axhline(y=R_minimum,ls='-.',lw=0.7,label=r'$\\varepsilon=0$ theo. min.',color='blue')\n",
    "  # ax.axhline(y=R_qf1,ls='-.',lw=0.7,label=r'$\\mathcal{R}{(q_f^1)}$',color='green')\n",
    "  # ax.axhline(y=R_qf2,ls='-.',lw=0.7,label=r'$\\mathcal{R}{(q_f^2)}$',color='red')\n",
    "\n",
    "  # Plot simulations\n",
    "  for d, s in simrs.items():\n",
    "    t = np.array(s.steps) / d\n",
    "    ax.plot(t, s.risks, label=f'$d={s.d}$',ls='--',lw=1.,marker='o',ms=5., c='m')\n",
    "  # Plot ODE\n",
    "  ax.plot(oder.times, oder.risks, label='ODE')\n",
    "\n",
    "  ax.legend()\n",
    "  fig.savefig('figures/example-small-eps.pdf', bbox_inches = 'tight')\n",
    "\n",
    "  # # Zoom\n",
    "  ax.set_xlim(1e-3,1e2)\n",
    "  ax.set_ylim(0.19,1.4)\n",
    "  fig.savefig('figures/example-small-eps-zoom.pdf', bbox_inches = 'tight')"
   ]
  }
 ],
 "metadata": {
  "kernelspec": {
   "display_name": "Python 3.7.12 ('venv': venv)",
   "language": "python",
   "name": "python3"
  },
  "language_info": {
   "codemirror_mode": {
    "name": "ipython",
    "version": 3
   },
   "file_extension": ".py",
   "mimetype": "text/x-python",
   "name": "python",
   "nbconvert_exporter": "python",
   "pygments_lexer": "ipython3",
   "version": "3.7.12"
  },
  "orig_nbformat": 4,
  "vscode": {
   "interpreter": {
    "hash": "ae53927d5083527f3bb86a79508a07839e3f18b979e46c360723da8f63d88884"
   }
  }
 },
 "nbformat": 4,
 "nbformat_minor": 2
}
