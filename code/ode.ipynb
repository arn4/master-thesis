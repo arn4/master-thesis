{
 "cells": [
  {
   "cell_type": "code",
   "execution_count": 1,
   "metadata": {},
   "outputs": [],
   "source": [
    "%load_ext autoreload\n",
    "%autoreload 2"
   ]
  },
  {
   "cell_type": "code",
   "execution_count": 2,
   "metadata": {},
   "outputs": [],
   "source": [
    "from committee_learning.ode import SquaredActivationODE\n",
    "from committee_learning.initial_conditions import RandomNormalInitialConditions\n",
    "from committee_learning.simulation import Simulation\n",
    "from committee_learning.result import SquareODEResult, SimulationResult\n",
    "import numpy as np\n",
    "\n",
    "d_list = [1000]\n",
    "p = 10\n",
    "k = 5\n",
    "gamma0 = 1.\n",
    "noise = 1e-3\n",
    "dt = 1e-1\n",
    "\n",
    "ic = {d:RandomNormalInitialConditions(p,k,d) for d in d_list}"
   ]
  },
  {
   "cell_type": "markdown",
   "metadata": {},
   "source": [
    "### Simulations"
   ]
  },
  {
   "cell_type": "code",
   "execution_count": 3,
   "metadata": {},
   "outputs": [
    {
     "name": "stdout",
     "output_type": "stream",
     "text": [
      "Simulating d = 1000\n"
     ]
    }
   ],
   "source": [
    "sims = [\n",
    "  Simulation(d,p,k,noise,ic[d].Wteacher,gamma0,'square',ic[d].W0)\n",
    "  for d in d_list\n",
    "]\n",
    "\n",
    "simrs = {}\n",
    "for d, sim in zip(d_list, sims):\n",
    "  print(f'Simulating d = {sim.d}')\n",
    "  simr = SimulationResult(initial_condition='random')\n",
    "  simr.from_file_or_run(sim,3.5+np.log10(sim.d),path='computation-database/sim/')\n",
    "  simrs[d] = simr"
   ]
  },
  {
   "cell_type": "markdown",
   "metadata": {},
   "source": [
    "### ODE"
   ]
  },
  {
   "cell_type": "code",
   "execution_count": 4,
   "metadata": {},
   "outputs": [],
   "source": [
    "oders = {}\n",
    "for d in d_list:\n",
    "  ode = SquaredActivationODE(p,k,noise,gamma0,ic[d].P,ic[d].Q,ic[d].M,dt)\n",
    "  oder = SquareODEResult('random_d={d}')\n",
    "  oder.from_file_or_run(ode, 5, path='computation-database/ode/')\n",
    "  oders[d] = oder"
   ]
  },
  {
   "cell_type": "markdown",
   "metadata": {},
   "source": [
    "### Plot"
   ]
  },
  {
   "cell_type": "code",
   "execution_count": 5,
   "metadata": {},
   "outputs": [
    {
     "data": {
      "image/png": "[encoded data removed]",
      "text/plain": [
       "<Figure size 576x576 with 1 Axes>"
      ]
     },
     "metadata": {},
     "output_type": "display_data"
    }
   ],
   "source": [
    "import matplotlib.pyplot as plt\n",
    "from committee_learning.utilities import plot_style\n",
    "\n",
    "with plot_style():\n",
    "  fig, ax = plt.subplots(figsize=(8,8))\n",
    "  ax.set_xscale('log')\n",
    "  ax.set_yscale('log')\n",
    "  for d in d_list:\n",
    "    t = np.array(simrs[d].steps) / d\n",
    "    ax.plot(t, simrs[d].risks, label=f'$d={d}$',ls='--',lw=1.,marker='o',ms=5.)\n",
    "    ax.plot(oders[d].times, oders[d].risks, label='ODE')\n",
    "  ax.legend()\n",
    "  plt.show()\n",
    "  \n"
   ]
  },
  {
   "cell_type": "code",
   "execution_count": 6,
   "metadata": {},
   "outputs": [
    {
     "name": "stdout",
     "output_type": "stream",
     "text": [
      "344\n"
     ]
    },
    {
     "data": {
      "image/png": "[encoded data removed]",
      "text/plain": [
       "<Figure size 800x800 with 2 Axes>"
      ]
     },
     "metadata": {},
     "output_type": "display_data"
    }
   ],
   "source": [
    "from committee_learning.utilities import macroscopic_variable_plot\n",
    "\n",
    "macroscopic_variable_plot(simr.M_at_time(5e1))"
   ]
  },
  {
   "cell_type": "code",
   "execution_count": 7,
   "metadata": {},
   "outputs": [
    {
     "ename": "NameError",
     "evalue": "name 'seaborn' is not defined",
     "output_type": "error",
     "traceback": [
      "\u001b[0;31m---------------------------------------------------------------------------\u001b[0m",
      "\u001b[0;31mNameError\u001b[0m                                 Traceback (most recent call last)",
      "\u001b[0;32m/var/folders/_q/0zpnpwmx1hv1c_7qsvfddsnm0000gn/T/ipykernel_33308/617646185.py\u001b[0m in \u001b[0;36m<module>\u001b[0;34m\u001b[0m\n\u001b[1;32m      1\u001b[0m \u001b[0;32mwith\u001b[0m \u001b[0mplot_style\u001b[0m\u001b[0;34m(\u001b[0m\u001b[0;34m)\u001b[0m\u001b[0;34m:\u001b[0m\u001b[0;34m\u001b[0m\u001b[0;34m\u001b[0m\u001b[0m\n\u001b[1;32m      2\u001b[0m   \u001b[0mfig\u001b[0m\u001b[0;34m,\u001b[0m \u001b[0max\u001b[0m \u001b[0;34m=\u001b[0m \u001b[0mplt\u001b[0m\u001b[0;34m.\u001b[0m\u001b[0msubplots\u001b[0m\u001b[0;34m(\u001b[0m\u001b[0mfigsize\u001b[0m\u001b[0;34m=\u001b[0m\u001b[0;34m(\u001b[0m\u001b[0;36m8\u001b[0m\u001b[0;34m,\u001b[0m\u001b[0;36m8\u001b[0m\u001b[0;34m)\u001b[0m\u001b[0;34m)\u001b[0m\u001b[0;34m\u001b[0m\u001b[0;34m\u001b[0m\u001b[0m\n\u001b[0;32m----> 3\u001b[0;31m   seaborn.heatmap(\n\u001b[0m\u001b[1;32m      4\u001b[0m     \u001b[0mabs\u001b[0m\u001b[0;34m(\u001b[0m\u001b[0mnp\u001b[0m\u001b[0;34m.\u001b[0m\u001b[0marray\u001b[0m\u001b[0;34m(\u001b[0m\u001b[0msimrs\u001b[0m\u001b[0;34m[\u001b[0m\u001b[0;36m1000\u001b[0m\u001b[0;34m]\u001b[0m\u001b[0;34m.\u001b[0m\u001b[0mP\u001b[0m\u001b[0;34m)\u001b[0m\u001b[0;34m)\u001b[0m\u001b[0;34m,\u001b[0m\u001b[0;34m\u001b[0m\u001b[0;34m\u001b[0m\u001b[0m\n\u001b[1;32m      5\u001b[0m     \u001b[0mcmap\u001b[0m\u001b[0;34m=\u001b[0m\u001b[0;34m'seismic'\u001b[0m\u001b[0;34m,\u001b[0m\u001b[0;34m\u001b[0m\u001b[0;34m\u001b[0m\u001b[0m\n",
      "\u001b[0;31mNameError\u001b[0m: name 'seaborn' is not defined"
     ]
    }
   ],
   "source": [
    "with plot_style():\n",
    "  fig, ax = plt.subplots(figsize=(8,8))\n",
    "  seaborn.heatmap(\n",
    "    abs(np.array(simrs[1000].P)),\n",
    "    cmap='seismic',\n",
    "    norm=PowerNorm(1.8,vmin=0.,vmax=1.),\n",
    "    ax=ax\n",
    "  )\n",
    "  plt.show()"
   ]
  }
 ],
 "metadata": {
  "interpreter": {
   "hash": "ae53927d5083527f3bb86a79508a07839e3f18b979e46c360723da8f63d88884"
  },
  "kernelspec": {
   "display_name": "Python 3.7.12 ('venv': venv)",
   "language": "python",
   "name": "python3"
  },
  "language_info": {
   "codemirror_mode": {
    "name": "ipython",
    "version": 3
   },
   "file_extension": ".py",
   "mimetype": "text/x-python",
   "name": "python",
   "nbconvert_exporter": "python",
   "pygments_lexer": "ipython3",
   "version": "3.7.12"
  },
  "orig_nbformat": 4
 },
 "nbformat": 4,
 "nbformat_minor": 2
}
