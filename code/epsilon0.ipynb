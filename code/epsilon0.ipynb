{
 "cells": [
  {
   "cell_type": "code",
   "execution_count": 2,
   "metadata": {},
   "outputs": [],
   "source": [
    "%load_ext autoreload\n",
    "%autoreload 2"
   ]
  },
  {
   "cell_type": "code",
   "execution_count": 3,
   "metadata": {},
   "outputs": [
    {
     "name": "stdout",
     "output_type": "stream",
     "text": [
      "Actual initial value:\t2.0\n",
      "Diverging threeshold:\t5.78100796675811\n",
      "Attractor:\t\t0.8856586999085575\n",
      "Risk minimum q:\t\t0.8\n"
     ]
    }
   ],
   "source": [
    "from committee_learning.initial_conditions import SymmetricInitialConditions\n",
    "from committee_learning.simulation import Simulation\n",
    "from committee_learning.ode import SquaredActivationODE\n",
    "from committee_learning.result import SimulationResult, SquareODEResult\n",
    "from committee_learning.ode.epsilon0 import EpsilonZeroODE\n",
    "\n",
    "import numpy as np\n",
    "\n",
    "# d_list = [100,1000,10000]#,20000]\n",
    "d_list = [10000]\n",
    "p = 8\n",
    "k = 4\n",
    "gamma0 = 1.\n",
    "noise = 1e-1\n",
    "dt = 1e-3\n",
    "epsilon = 0.\n",
    "q0 = 2.\n",
    "\n",
    "analytic = EpsilonZeroODE(p,k,gamma0,noise,q0)\n",
    "\n",
    "print(f'Actual initial value:\\t{analytic.q0}')\n",
    "print(f'Diverging threeshold:\\t{analytic.qf2}')\n",
    "print(f'Attractor:\\t\\t{analytic.qf1}')\n",
    "print(f'Risk minimum q:\\t\\t{analytic.qf0}')\n",
    "\n",
    "ic = SymmetricInitialConditions(p,k,epsilon,q0)"
   ]
  },
  {
   "cell_type": "markdown",
   "metadata": {},
   "source": [
    "### Simulations"
   ]
  },
  {
   "cell_type": "code",
   "execution_count": 4,
   "metadata": {},
   "outputs": [
    {
     "name": "stdout",
     "output_type": "stream",
     "text": [
      "Simulating d = 10000\n"
     ]
    }
   ],
   "source": [
    "simrs = {}\n",
    "for d, Wt, W0 in ic.simulations(d_list):\n",
    "  print(f'Simulating d = {d}')\n",
    "  sim = Simulation(d,p,k,noise,Wt,gamma0,'square',W0)\n",
    "  log_lenght = 2+np.log10(d)\n",
    "  sim_res = SimulationResult(f'symmetric_eps={epsilon:.5e}')\n",
    "  sim_res.from_file_or_run(sim, log_lenght,path='computation-database/sim/')\n",
    "  simrs[d] = sim_res"
   ]
  },
  {
   "cell_type": "markdown",
   "metadata": {},
   "source": [
    "### ODE"
   ]
  },
  {
   "cell_type": "code",
   "execution_count": 5,
   "metadata": {},
   "outputs": [
    {
     "name": "stderr",
     "output_type": "stream",
     "text": [
      "100%|██████████| 10/10 [00:00<00:00, 4406.71it/s]\n",
      "100%|██████████| 90/90 [00:00<00:00, 4462.98it/s]\n",
      "100%|██████████| 900/900 [00:00<00:00, 3801.91it/s]\n",
      "100%|██████████| 9000/9000 [00:01<00:00, 7017.03it/s]\n",
      "100%|██████████| 90000/90000 [00:12<00:00, 7039.43it/s]\n"
     ]
    }
   ],
   "source": [
    "ode = SquaredActivationODE(p,k,noise,gamma0,ic.P,ic.Q,ic.M,dt)\n",
    "oder = SquareODEResult(f'symmetric_eps={epsilon:.5e}',ode=ode)\n",
    "\n",
    "ode.fit_logscale(2, 100)"
   ]
  },
  {
   "cell_type": "code",
   "execution_count": 10,
   "metadata": {},
   "outputs": [],
   "source": [
    "import matplotlib.pyplot as plt\n",
    "from committee_learning.utilities import plot_style\n",
    "\n",
    "with plot_style():\n",
    "  fig, ax = plt.subplots(figsize=(2.75,2.75))\n",
    "  ax.set_xscale('log')\n",
    "  ax.set_yscale('log')\n",
    "  ax.set_xlabel(r'$t$')\n",
    "  ax.set_ylabel(r'$\\mathcal{R}$')\n",
    "  ax.set_xlim(min(ode.saved_times), max(ode.saved_times))\n",
    "  ax.set_ylim(1e-2,1.5) # Global plot\n",
    "\n",
    "  # Lines\n",
    "  ax.axhline(y=analytic.R0,ls='-.',lw=0.7,label=r'$\\mathcal{R}{(0)}$',color='orange')\n",
    "  ax.axhline(y=analytic.R_minimum,ls='-.',lw=0.7,label=r'theoretical min. of $\\mathcal{R}$',color='blue')\n",
    "  ax.axhline(y=analytic.R_qf1,ls='-.',lw=0.7,label=r'$\\mathcal{R}{(q_f^1)}$',color='green')\n",
    "  # ax.axhline(y=R_qf2,ls='-.',lw=0.7,label=r'$\\mathcal{R}{(q_f^2)}$',color='red')\n",
    "\n",
    "\n",
    "  # Plot simulations\n",
    "  for d, sr in simrs.items():\n",
    "    t = np.array(sr.steps) / (d)\n",
    "    ax.plot(t, sr.macroscopic_risk(), label=f'Sim.',ls='--',lw=1.,marker='o',ms=5., color='m')\n",
    "\n",
    "  # Plot ODE\n",
    "  ax.plot(ode.saved_times, ode.saved_risks, label='ODE')\n",
    "\n",
    "  ax.legend()\n",
    "  fig.savefig('figures/example-eps0.pdf', bbox_inches = 'tight')\n",
    "  ax.set_ylim(1e-1,1.5) # Zoomed\n",
    "  fig.savefig('figures/example-eps0-zoomed.pdf', bbox_inches = 'tight')\n",
    "  "
   ]
  }
 ],
 "metadata": {
  "kernelspec": {
   "display_name": "Python 3.7.12 ('venv': venv)",
   "language": "python",
   "name": "python3"
  },
  "language_info": {
   "codemirror_mode": {
    "name": "ipython",
    "version": 3
   },
   "file_extension": ".py",
   "mimetype": "text/x-python",
   "name": "python",
   "nbconvert_exporter": "python",
   "pygments_lexer": "ipython3",
   "version": "3.7.12"
  },
  "orig_nbformat": 4,
  "vscode": {
   "interpreter": {
    "hash": "ae53927d5083527f3bb86a79508a07839e3f18b979e46c360723da8f63d88884"
   }
  }
 },
 "nbformat": 4,
 "nbformat_minor": 2
}
