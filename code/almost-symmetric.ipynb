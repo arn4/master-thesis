{
 "cells": [
  {
   "cell_type": "code",
   "execution_count": 122,
   "metadata": {},
   "outputs": [
    {
     "name": "stdout",
     "output_type": "stream",
     "text": [
      "The autoreload extension is already loaded. To reload it, use:\n",
      "  %reload_ext autoreload\n"
     ]
    }
   ],
   "source": [
    "%load_ext autoreload\n",
    "%autoreload 2"
   ]
  },
  {
   "cell_type": "code",
   "execution_count": 123,
   "metadata": {},
   "outputs": [],
   "source": [
    "from ode.commitee_ode import SquaredActivationODE, SymmetricInitialConditions, AlmostSymmetricInitialConditions, SquareODEResult\n",
    "from simulation.commitee_learning import Simulation, SimulationResult\n",
    "import numpy as np\n",
    "\n",
    "d_list = [1000, 5000]\n",
    "p = 8\n",
    "k = 4\n",
    "gamma0 = 1.\n",
    "noise = 1e-3\n",
    "dt = 1e-3\n",
    "epsilon = 0.5\n",
    "delta = 0.3\n",
    "q0 = 4.\n",
    "\n",
    "ic = AlmostSymmetricInitialConditions(p,k,epsilon,delta,q0)\n",
    "ic_nodelta = SymmetricInitialConditions(p,k,epsilon,q0)"
   ]
  },
  {
   "cell_type": "markdown",
   "metadata": {},
   "source": [
    "### Simulations"
   ]
  },
  {
   "cell_type": "code",
   "execution_count": 124,
   "metadata": {},
   "outputs": [
    {
     "name": "stdout",
     "output_type": "stream",
     "text": [
      "Simulating d = 1000\n"
     ]
    },
    {
     "name": "stderr",
     "output_type": "stream",
     "text": [
      "100%|██████████| 1/1 [00:00<00:00, 53.34it/s]\n",
      "100%|██████████| 9/9 [00:00<00:00, 58.44it/s]\n",
      "100%|██████████| 90/90 [00:01<00:00, 57.82it/s]\n",
      "100%|██████████| 900/900 [00:01<00:00, 472.38it/s]\n",
      "100%|██████████| 9000/9000 [00:04<00:00, 2122.94it/s]\n",
      "100%|██████████| 90000/90000 [00:26<00:00, 3363.79it/s]\n"
     ]
    },
    {
     "name": "stdout",
     "output_type": "stream",
     "text": [
      "Simulating d = 5000\n"
     ]
    },
    {
     "name": "stderr",
     "output_type": "stream",
     "text": [
      "100%|██████████| 1/1 [00:00<00:00, 10.21it/s]\n",
      "100%|██████████| 9/9 [00:00<00:00, 10.50it/s]\n",
      "100%|██████████| 90/90 [00:08<00:00, 10.57it/s]\n",
      "100%|██████████| 900/900 [00:10<00:00, 89.99it/s] \n",
      "100%|██████████| 9000/9000 [00:13<00:00, 680.39it/s]\n",
      "100%|██████████| 90000/90000 [00:44<00:00, 2008.99it/s]\n",
      "100%|██████████| 399999/399999 [02:52<00:00, 2316.29it/s]\n"
     ]
    },
    {
     "name": "stdout",
     "output_type": "stream",
     "text": [
      "Simulating d = 1000\n"
     ]
    },
    {
     "name": "stderr",
     "output_type": "stream",
     "text": [
      "100%|██████████| 1/1 [00:00<00:00, 48.58it/s]\n",
      "100%|██████████| 9/9 [00:00<00:00, 52.37it/s]\n",
      "100%|██████████| 90/90 [00:02<00:00, 44.36it/s]\n",
      "100%|██████████| 900/900 [00:02<00:00, 374.58it/s]\n",
      "100%|██████████| 9000/9000 [00:04<00:00, 2061.28it/s]\n",
      "100%|██████████| 90000/90000 [00:26<00:00, 3388.12it/s]\n"
     ]
    },
    {
     "name": "stdout",
     "output_type": "stream",
     "text": [
      "Simulating d = 5000\n"
     ]
    },
    {
     "name": "stderr",
     "output_type": "stream",
     "text": [
      "100%|██████████| 1/1 [00:00<00:00, 10.28it/s]\n",
      "100%|██████████| 9/9 [00:00<00:00, 10.52it/s]\n",
      "100%|██████████| 90/90 [00:08<00:00, 10.54it/s]\n",
      "100%|██████████| 900/900 [00:09<00:00, 90.04it/s] \n",
      "100%|██████████| 9000/9000 [00:13<00:00, 676.06it/s]\n",
      "100%|██████████| 90000/90000 [00:44<00:00, 2006.40it/s]\n",
      "100%|██████████| 399999/399999 [02:46<00:00, 2399.08it/s]\n"
     ]
    }
   ],
   "source": [
    "simrs = {}\n",
    "for d, Wt, W0 in ic.simulations(d_list):\n",
    "  print(f'Simulating d = {d}')\n",
    "  sim = Simulation(d,p,k,noise,Wt,gamma0,'square',W0)\n",
    "  simr = SimulationResult(f'test_epsilon-delta{epsilon}{delta}')\n",
    "  simr.from_file_or_run(sim, path='computation-database/sim/',decades=2+np.log10(d), force_simulation=True)\n",
    "  simrs[d] = simr\n",
    "\n",
    "simrs_nodelta = {}\n",
    "for d, Wt, W0 in ic_nodelta.simulations(d_list):\n",
    "  print(f'Simulating d = {d}')\n",
    "  sim = Simulation(d,p,k,noise,Wt,gamma0,'square',W0)\n",
    "  simr = SimulationResult(f'test_epsilon-nodelta{epsilon}{delta}')\n",
    "  simr.from_file_or_run(sim, path='computation-database/sim/',decades=2+np.log10(d), force_simulation=True)\n",
    "  simrs_nodelta[d] = simr"
   ]
  },
  {
   "cell_type": "markdown",
   "metadata": {},
   "source": [
    "### ODE"
   ]
  },
  {
   "cell_type": "code",
   "execution_count": 125,
   "metadata": {},
   "outputs": [
    {
     "name": "stderr",
     "output_type": "stream",
     "text": [
      "100%|██████████| 10/10 [00:00<00:00, 4214.53it/s]\n",
      "100%|██████████| 90/90 [00:00<00:00, 7774.59it/s]\n",
      "100%|██████████| 900/900 [00:00<00:00, 9258.97it/s]\n",
      "100%|██████████| 9000/9000 [00:00<00:00, 9438.52it/s]\n",
      "100%|██████████| 90000/90000 [00:09<00:00, 9552.19it/s]\n",
      "100%|██████████| 10/10 [00:00<00:00, 7118.64it/s]\n",
      "100%|██████████| 90/90 [00:00<00:00, 8704.28it/s]\n",
      "100%|██████████| 900/900 [00:00<00:00, 9620.75it/s]\n",
      "100%|██████████| 9000/9000 [00:00<00:00, 9509.93it/s]\n",
      "100%|██████████| 90000/90000 [00:09<00:00, 9520.54it/s]\n"
     ]
    }
   ],
   "source": [
    "ode = SquaredActivationODE(p,k,noise,gamma0,ic.P,ic.Q,ic.M,dt)\n",
    "oder = SquareODEResult(f'test_epsilon-delta{epsilon}{delta}', )\n",
    "oder.from_file_or_run(ode, decades=2, path='computation-database/ode/', force_simulation=True)\n",
    "\n",
    "ode_nodelta = SquaredActivationODE(p,k,noise,gamma0,ic_nodelta.P,ic_nodelta.Q,ic_nodelta.M,dt)\n",
    "oder_nodelta = SquareODEResult(f'test_epsilon-nodelta{epsilon}{0.}', )\n",
    "oder_nodelta.from_file_or_run(ode_nodelta, decades=2, path='computation-database/ode/', force_simulation=True)"
   ]
  },
  {
   "cell_type": "code",
   "execution_count": 128,
   "metadata": {},
   "outputs": [
    {
     "data": {
      "image/png": "[encoded data removed]",
      "text/plain": [
       "<Figure size 800x800 with 1 Axes>"
      ]
     },
     "metadata": {},
     "output_type": "display_data"
    }
   ],
   "source": [
    "import matplotlib.pyplot as plt\n",
    "from utilities import plot_style\n",
    "\n",
    "with plot_style():\n",
    "  fig, ax = plt.subplots(figsize=(8,8))\n",
    "  ax.set_xscale('log')\n",
    "  ax.set_yscale('log')\n",
    "  ax.set_xlabel(r'$t$')\n",
    "  ax.set_ylabel(r'$\\mathcal{R}$')\n",
    "  # ax.set_xlim(min(ode.saved_times), max(ode.saved_times))\n",
    "  # ax.set_xlim(1e-3,70)\n",
    "  ax.set_ylim(0.2,0.4)\n",
    "\n",
    "\n",
    "  # Plot ODE\n",
    "  ax.plot(oder.times, oder.risks, label='ODE')\n",
    "  ax.plot(oder_nodelta.times, oder_nodelta.risks, label='ODE no delta')\n",
    "\n",
    "  # Plot simulations\n",
    "  # for d, s in simrs.items():\n",
    "  #   t = np.array(s.steps) / d\n",
    "  #   ax.plot(t, s.risks, label=f'$d={s.d}$',ls='--',lw=1.,marker='o',ms=5.)\n",
    "  \n",
    "  # for d, s in simrs_nodelta.items():\n",
    "  #   t = np.array(s.steps) / d\n",
    "  #   ax.plot(t, s.risks, label=f'$d={s.d}$',ls='--',lw=1.,marker='o',ms=5.)\n",
    "\n",
    "  ax.legend()\n",
    "  plt.show()\n",
    "  "
   ]
  },
  {
   "cell_type": "code",
   "execution_count": 127,
   "metadata": {},
   "outputs": [
    {
     "name": "stdout",
     "output_type": "stream",
     "text": [
      "[[0.125 0.125 0.125 0.125]\n",
      " [0.125 0.125 0.125 0.125]\n",
      " [0.125 0.125 0.125 0.125]\n",
      " [0.125 0.125 0.125 0.125]\n",
      " [0.125 0.125 0.125 0.125]\n",
      " [0.125 0.125 0.125 0.125]\n",
      " [0.125 0.125 0.125 0.125]\n",
      " [0.125 0.125 0.125 0.125]]\n",
      "[[0.05 0.05 0.05 0.05]\n",
      " [0.05 0.05 0.05 0.05]\n",
      " [0.05 0.05 0.05 0.05]\n",
      " [0.05 0.05 0.05 0.05]\n",
      " [0.2  0.2  0.2  0.2 ]\n",
      " [0.2  0.2  0.2  0.2 ]\n",
      " [0.2  0.2  0.2  0.2 ]\n",
      " [0.2  0.2  0.2  0.2 ]]\n"
     ]
    }
   ],
   "source": [
    "print(ic_nodelta.M)\n",
    "print(ic.M)"
   ]
  }
 ],
 "metadata": {
  "kernelspec": {
   "display_name": "Python 3.7.12 ('venv': venv)",
   "language": "python",
   "name": "python3"
  },
  "language_info": {
   "codemirror_mode": {
    "name": "ipython",
    "version": 3
   },
   "file_extension": ".py",
   "mimetype": "text/x-python",
   "name": "python",
   "nbconvert_exporter": "python",
   "pygments_lexer": "ipython3",
   "version": "3.7.12"
  },
  "orig_nbformat": 4,
  "vscode": {
   "interpreter": {
    "hash": "ae53927d5083527f3bb86a79508a07839e3f18b979e46c360723da8f63d88884"
   }
  }
 },
 "nbformat": 4,
 "nbformat_minor": 2
}
